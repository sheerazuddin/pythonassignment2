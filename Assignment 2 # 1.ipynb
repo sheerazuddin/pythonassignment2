{
 "cells": [
  {
   "cell_type": "code",
   "execution_count": 1,
   "metadata": {},
   "outputs": [
    {
     "name": "stdout",
     "output_type": "stream",
     "text": [
      "Enter the number of inputs:5\n",
      "Enter the number of inputs:70\n",
      "70\n",
      "Enter the number of inputs:65\n",
      "135\n",
      "Enter the number of inputs:85\n",
      "220\n",
      "Enter the number of inputs:98\n",
      "318\n",
      "Enter the number of inputs:45\n",
      "363\n",
      "72.6\n",
      "your grade is A\n"
     ]
    }
   ],
   "source": [
    "total=0\n",
    "x=int(input(\"Enter the number of inputs:\"))\n",
    "for i in range(x):\n",
    "    y=int(input(\"Enter the number of inputs:\"))\n",
    "    total=total+y\n",
    "    print(total)\n",
    "    percentage=(total/500)*100\n",
    "print(percentage)\n",
    "if percentage>=80:\n",
    "    print(\"your grade is A+\")\n",
    "elif percentage>=70 and percentage<80:\n",
    "    print(\"your grade is A\")\n",
    "elif percentage>=60 and percentage<70:\n",
    "    print(\"your grade is B\")\n",
    "elif percentage>=50 and percentage<60:\n",
    "    print(\" your grade is C\")\n",
    "else:\n",
    "    print(\"Fail\")\n"
   ]
  },
  {
   "cell_type": "code",
   "execution_count": null,
   "metadata": {},
   "outputs": [],
   "source": []
  }
 ],
 "metadata": {
  "kernelspec": {
   "display_name": "Python 3",
   "language": "python",
   "name": "python3"
  },
  "language_info": {
   "codemirror_mode": {
    "name": "ipython",
    "version": 3
   },
   "file_extension": ".py",
   "mimetype": "text/x-python",
   "name": "python",
   "nbconvert_exporter": "python",
   "pygments_lexer": "ipython3",
   "version": "3.7.4"
  }
 },
 "nbformat": 4,
 "nbformat_minor": 2
}
